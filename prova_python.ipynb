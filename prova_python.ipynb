{
 "cells": [
  {
   "cell_type": "code",
   "execution_count": 8,
   "metadata": {},
   "outputs": [],
   "source": [
    "from pymongo import MongoClient\n",
    "import datetime\n",
    "\n",
    "## Criando uma conexão\n",
    "conexao = MongoClient(\"mongodb://localhost:27017/\")\n",
    "\n",
    "banco = conexao[\"projectdb\"]\n",
    "coll_projects = banco[\"projects\"]\n",
    "coll_colaborators = banco[\"collaborators\"]\n",
    "coll_squads = banco[\"squads\"]"
   ]
  },
  {
   "cell_type": "code",
   "execution_count": 15,
   "metadata": {},
   "outputs": [],
   "source": [
    "# 5 \n",
    "def\tatualizar_status(nome_projeto, data_conclusao):\n",
    "    try:\n",
    "        data_conclusao = datetime.strptime(data_conclusao, \"%Y-%m-%d %H:%M:%S\")\n",
    "    except Exception as e:\n",
    "        print(f\"{e} - Não foi possivel fazer a converter a data de conclusão.\")\n",
    "        return\n",
    "\n",
    "    projeto = coll_projects.find({\"nome\": nome_projeto})\n",
    "    projeto_status =  coll_projects.find({\"nome\": nome_projeto, \"status\": { \"$regex\": \"/Conclu[í|i]do/i\"}})\n",
    "    data_inicio = datetime.strptime(projeto[\"data_inicio\"], \"%Y-%m-%d\")\n",
    "        \n",
    "    if not projeto:\n",
    "        print(\"Projeto não encontrado.\")\n",
    "        return\n",
    "    \n",
    "    if not projeto_status:\n",
    "        print(\"O projeto não está no estado concluido\")    \n",
    "        return\n",
    "    \n",
    "    if data_conclusao < data_inicio:\n",
    "        print(\"A data de conclusão deve ser maior que a data de início\")\n",
    "        return\n",
    "    \n",
    "    retorno = coll_projects.update_one(\n",
    "        {{\"nome\": nome_projeto}}, {\"$set\": {\"data_vencimento\":  data_conclusao}}    \n",
    "    )\n",
    "    \n",
    "    if retorno.modified_count == 0:\n",
    "        print(\"Ocorreu algum erro na modificação.\")\n",
    "    else:\n",
    "        print(f\"Atualização de status ocorrida com sucesso.\")"
   ]
  }
 ],
 "metadata": {
  "kernelspec": {
   "display_name": "Python 3",
   "language": "python",
   "name": "python3"
  },
  "language_info": {
   "codemirror_mode": {
    "name": "ipython",
    "version": 3
   },
   "file_extension": ".py",
   "mimetype": "text/x-python",
   "name": "python",
   "nbconvert_exporter": "python",
   "pygments_lexer": "ipython3",
   "version": "3.12.6"
  }
 },
 "nbformat": 4,
 "nbformat_minor": 2
}

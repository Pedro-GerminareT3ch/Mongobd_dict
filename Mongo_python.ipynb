{
 "cells": [
  {
   "cell_type": "code",
   "execution_count": 4,
   "metadata": {},
   "outputs": [
    {
     "name": "stdout",
     "output_type": "stream",
     "text": [
      "MongoClient(host=['localhost:27017'], document_class=dict, tz_aware=False, connect=True)\n"
     ]
    }
   ],
   "source": [
    "from pymongo import MongoClient\n",
    "\n",
    "## Criando uma conexão\n",
    "conexao = MongoClient(\"mongodb://localhost:27017/\")\n",
    "print(conexao)"
   ]
  },
  {
   "cell_type": "markdown",
   "metadata": {},
   "source": [
    "### Listar Databases"
   ]
  },
  {
   "cell_type": "code",
   "execution_count": 32,
   "metadata": {},
   "outputs": [
    {
     "name": "stdout",
     "output_type": "stream",
     "text": [
      "Bancos:\n",
      "MangaDb, admin, config, dbBank, dbGerminare, dbMercado, dbPratica, dbRegistros, local, techBank, youtubeData\n"
     ]
    }
   ],
   "source": [
    "# Listar todos os bancos de dados\n",
    "bancos = conexao.list_database_names()\n",
    "\n",
    "# Exibir os bancos de dados\n",
    "print(\"Bancos:\")\n",
    "for banco in bancos:\n",
    "    print(banco) if banco == bancos[-1] else print(banco,  end=\", \")"
   ]
  },
  {
   "cell_type": "markdown",
   "metadata": {},
   "source": [
    "### Listar Collections"
   ]
  },
  {
   "cell_type": "code",
   "execution_count": 23,
   "metadata": {},
   "outputs": [
    {
     "name": "stdout",
     "output_type": "stream",
     "text": [
      "Collections de dbBank: \n",
      "lista, clientes\n"
     ]
    }
   ],
   "source": [
    "# listar todas as collecitons de um banco\n",
    "banco = conexao[\"dbBank\"]\n",
    "collections = banco.list_collection_names()\n",
    "print(\"Collections de \"+ banco.name +\": \")\n",
    "for col in collections:\n",
    "    print(col) if col == collections[-1] else print(col,  end=\", \")"
   ]
  },
  {
   "cell_type": "markdown",
   "metadata": {},
   "source": [
    "## Databese novo"
   ]
  },
  {
   "cell_type": "code",
   "execution_count": 6,
   "metadata": {},
   "outputs": [
    {
     "name": "stdout",
     "output_type": "stream",
     "text": [
      "Database(MongoClient(host=['localhost:27017'], document_class=dict, tz_aware=False, connect=True), 'MangaDb')\n"
     ]
    }
   ],
   "source": [
    "## Criando um Banco de dados\n",
    "banco_do_sistema = conexao[\"MangaDb\"]\n",
    "print(banco_do_sistema)"
   ]
  },
  {
   "cell_type": "markdown",
   "metadata": {},
   "source": [
    "## Collection nova"
   ]
  },
  {
   "cell_type": "code",
   "execution_count": 7,
   "metadata": {},
   "outputs": [
    {
     "name": "stdout",
     "output_type": "stream",
     "text": [
      "Collection(Database(MongoClient(host=['localhost:27017'], document_class=dict, tz_aware=False, connect=True), 'MangaDb'), 'pessoa')\n"
     ]
    }
   ],
   "source": [
    "## Crir uma collection\n",
    "retorno = collection_do_sistema = banco_do_sistema[\"pessoa\"]\n",
    "print(f\"{collection_do_sistema}\")"
   ]
  },
  {
   "cell_type": "markdown",
   "metadata": {},
   "source": [
    "## Inserindo um documento"
   ]
  },
  {
   "cell_type": "code",
   "execution_count": 24,
   "metadata": {},
   "outputs": [
    {
     "data": {
      "text/plain": [
       "InsertOneResult(ObjectId('67e1690d2b2ff082d331f7f8'), acknowledged=True)"
      ]
     },
     "execution_count": 24,
     "metadata": {},
     "output_type": "execute_result"
    }
   ],
   "source": [
    "#collection.método(prâmetro)\n",
    "pessoa1 = {\n",
    "    \"nome\": \"Kelliane\",\n",
    "    \"idade\": 11,\n",
    "    \"salario\": 1234.12\n",
    "}\n",
    "pessoa2 = {\n",
    "    \"nome\": \"Marcelo\",\n",
    "    \"idade\": 35,\n",
    "    \"salario\": 3980.95\n",
    "}\n",
    "collection_do_sistema.insert_one(pessoa2)"
   ]
  },
  {
   "cell_type": "markdown",
   "metadata": {},
   "source": [
    "## Buscando (Read)"
   ]
  },
  {
   "cell_type": "code",
   "execution_count": 8,
   "metadata": {},
   "outputs": [
    {
     "name": "stdout",
     "output_type": "stream",
     "text": [
      "Pessoa 1: {\n",
      "_id: 67bf260a882b955966918d14,\n",
      "nome: Kelliane,\n",
      "idade: 11,\n",
      "salario: 1493.2852,\n",
      "\n"
     ]
    }
   ],
   "source": [
    "lista = list(collection_do_sistema.find())\n",
    "count = 1\n",
    "for doc in collection_do_sistema.find():\n",
    "    print(f\"Pessoa {count}: {'{'}\")\n",
    "    for key in doc:\n",
    "        print(f\"{key}: {doc[key]}\", end=\",\\n\")\n",
    "    print()\n",
    "    count +=1"
   ]
  },
  {
   "cell_type": "markdown",
   "metadata": {},
   "source": [
    "## Filtro"
   ]
  },
  {
   "cell_type": "code",
   "execution_count": 41,
   "metadata": {},
   "outputs": [
    {
     "name": "stdout",
     "output_type": "stream",
     "text": [
      "{'_id': ObjectId('67c04a41709a03cbec45e035'), 'nome': 'Marcelo', 'idade': 35, 'salario': 3980.95}\n",
      "{'_id': ObjectId('67c04a41709a03cbec45e035'), 'nome': 'Marcelo', 'idade': 35, 'salario': 3980.95}\n"
     ]
    }
   ],
   "source": [
    "filtro= {\n",
    "    \"salario\":{\"$gt\":3000}\n",
    "}\n",
    " \n",
    "for doc in collection_do_sistema.find(filtro):\n",
    "    print(doc)\n",
    "\n",
    "# ou\n",
    "for doc in collection_do_sistema.find():\n",
    "    if doc[\"salario\"] > 3000:\n",
    "        print(doc)"
   ]
  },
  {
   "cell_type": "markdown",
   "metadata": {},
   "source": [
    "## Atualização (Update)"
   ]
  },
  {
   "cell_type": "code",
   "execution_count": 45,
   "metadata": {},
   "outputs": [
    {
     "name": "stdout",
     "output_type": "stream",
     "text": [
      "Nada foi modificado.\n"
     ]
    }
   ],
   "source": [
    "filtro_update= {\n",
    "    \"idade\":{\"$lt\":10}\n",
    "}\n",
    "atualizacao = {\n",
    "    \"$mul\": {\"salario\":1.1}\n",
    "}\n",
    "\n",
    "retorno = collection_do_sistema.update_many(filtro_update,atualizacao)\n",
    "\n",
    "if retorno.modified_count == 0:\n",
    "    print(\"Nada foi modificado.\")\n",
    "else:\n",
    "    print(f\"{retorno.modified_count} pessoas foram modificadas.\")"
   ]
  },
  {
   "cell_type": "markdown",
   "metadata": {},
   "source": [
    "## Delete (deletar documento)"
   ]
  },
  {
   "cell_type": "code",
   "execution_count": 55,
   "metadata": {},
   "outputs": [
    {
     "name": "stdout",
     "output_type": "stream",
     "text": [
      "Marcelo {\n",
      "_id: 67c04a41709a03cbec45e035,\n",
      "nome: Marcelo,\n",
      "idade: 35,\n",
      "salario: 3980.95,\n",
      "}\n"
     ]
    }
   ],
   "source": [
    "\n",
    "name = input(\"Insira o nome do usuário: \")\n",
    "count = 1\n",
    "print(f\"{name} {'{'}\")\n",
    "for doc in collection_do_sistema.find({\"nome\": name}):\n",
    "    for key in doc:\n",
    "        print(f\"{key}: {doc[key]}\", end=\",\\n\")\n",
    "    print(\"}\")\n",
    "    count +=1\n",
    "    \n",
    "delt = input(f\"Deseja deletar esse usuário [S/N]: \")\n",
    "if delt.upper() == \"S\":\n",
    "    collection_do_sistema.delete_one({\"nome\": name})\n",
    "    print(f\"{name} foi deletado.\")\n",
    "else:\n",
    "    print(\"Ninguém foi deletado.\")"
   ]
  }
 ],
 "metadata": {
  "kernelspec": {
   "display_name": "Python 3",
   "language": "python",
   "name": "python3"
  },
  "language_info": {
   "codemirror_mode": {
    "name": "ipython",
    "version": 3
   },
   "file_extension": ".py",
   "mimetype": "text/x-python",
   "name": "python",
   "nbconvert_exporter": "python",
   "pygments_lexer": "ipython3",
   "version": "3.12.6"
  }
 },
 "nbformat": 4,
 "nbformat_minor": 2
}
